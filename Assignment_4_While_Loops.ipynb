{
 "cells": [
  {
   "cell_type": "markdown",
   "id": "7633528e87de5ac0",
   "metadata": {},
   "source": [
    "INFO-B 210: Information Infrastructure I\n",
    "\n",
    "Assignment 4: Compound Conditionals and While Loops\n",
    "\n",
    "### Purpose:\n",
    "\n",
    "The purpose of this assignment is to utilize python programming in practical setting to solve real world problems.\n",
    "\n",
    "Skills:\n",
    "In order to complete this assignment you will need to\n",
    "\n",
    "use critical thinking to write code to answer the questions\n",
    "\n",
    "practice Python fundamentals and best practices\n",
    "\n",
    "### Knowledge:\n",
    "\n",
    "1. This assignment will help you gain the following:\n",
    "\n",
    "how to create and utilize compound conditional statements\n",
    "\n",
    "use while loops for repeated execution"
   ]
  },
  {
   "cell_type": "markdown",
   "id": "64d3516f527dd0b8",
   "metadata": {},
   "source": [
    "1.Many programs are multipurpose, proving the user access to multiple functionalities, that they can choose between. For example, modern word processors don’t just allow users to write files, but they can open files and edit existing files as well. White a program that allows the users to choose between 2 modes: LCM and GCF. In LCM, the program should take two integers as input and compute the least common multiple of those numbers. In GCF, the program should take two integers and input and compute the greatest common factor between those values. In each of those modes, the program should confirm that the user input is acceptable, if not the program should continue to prompt the user until the input is acceptable. After completing the task, the program should ask the user what they want to do, and should only stop after the user inputs ‘Stop’ as the mode. (It may be helpful to use either psuedocode and/or a flow chart to plan this program) (40 points)"
   ]
  },
  {
   "cell_type": "code",
   "execution_count": 24,
   "id": "e9a3890200172b07",
   "metadata": {
    "ExecuteTime": {
     "end_time": "2024-02-17T02:13:56.470311700Z",
     "start_time": "2024-02-17T02:13:50.665293600Z"
    }
   },
   "outputs": [
    {
     "name": "stdout",
     "output_type": "stream",
     "text": [
      "The Least Common Multiple of 4 and 6 is 12.\n"
     ]
    }
   ],
   "source": [
    "#a.“LCM”, 4, 6, “Stop”\n",
    "tries = 0\n",
    "max_tries = 1\n",
    "a = 0\n",
    "b = 0\n",
    "big_num = 0\n",
    "small_num = 0\n",
    "greatest_c_m =0\n",
    "least_c_m = 0\n",
    "while (tries < max_tries):\n",
    "    try:\n",
    "        a = int(input(\"Please enter the first number\"))\n",
    "        b = int(input(\"Please enter the second number\"))\n",
    "        if (a <= 0) or (b <= 0):\n",
    "            print(\"Please enter an integer value greater than 0 for both values.\")\n",
    "            tries = 0\n",
    "        else:\n",
    "             #find the Greatest common factor\n",
    "            if a <= b:\n",
    "                big_num = b\n",
    "                small_num = a\n",
    "            else:\n",
    "                big_num = a\n",
    "                small_num = b\n",
    "            \n",
    "            while small_num != 0:\n",
    "                remainder = big_num % small_num\n",
    "                big_num = small_num\n",
    "                small_num = remainder\n",
    "            greatest_c_m = big_num\n",
    "            least_c_m = (a * b) // big_num   \n",
    "        print(f\"The Least Common Multiple of {a} and {b} is {least_c_m}.\") \n",
    "        #print(f\"The Greatest Common Factor of {a} and {b} is {greatest_c_m}.\")\n",
    "        \n",
    "        user_desire = input(\"Would you like to continue playing? Enter Yes to continue or Enter Stop to quit?\")\n",
    "        if (user_desire == \"Stop\") or (user_desire ==\"stop\"):\n",
    "            tries = max_tries\n",
    "        elif(user_desire == \"yes\") or (user_desire ==\"Yes\"):\n",
    "            tries = 0\n",
    "        else:\n",
    "            tries = max_tries\n",
    "        tries +=1     \n",
    "    except ValueError:\n",
    "          print(\"Please enter a valid value,enter only numbers?\")  "
   ]
  },
  {
   "cell_type": "code",
   "execution_count": 25,
   "id": "2b15bd251b05e65",
   "metadata": {
    "ExecuteTime": {
     "end_time": "2024-02-17T02:14:07.637433200Z",
     "start_time": "2024-02-17T02:14:01.928398500Z"
    }
   },
   "outputs": [
    {
     "name": "stdout",
     "output_type": "stream",
     "text": [
      "The Least Common Multiple of 9 and 3 is 9.\n"
     ]
    }
   ],
   "source": [
    "#b.“LCM”, 9, 3, “Stop”\n",
    "tries = 0\n",
    "max_tries = 1\n",
    "a = 0\n",
    "b = 0\n",
    "big_num = 0\n",
    "small_num = 0\n",
    "greatest_c_m =0\n",
    "least_c_m = 0\n",
    "while (tries < max_tries):\n",
    "    try:\n",
    "        a = int(input(\"Please enter the first number\"))\n",
    "        b = int(input(\"Please enter the second number\"))\n",
    "        if (a <= 0) or (b <= 0):\n",
    "            print(\"Please enter an integer value greater than 0 for both values.\")\n",
    "            tries = 0\n",
    "        else:\n",
    "             #find the Greatest common factor\n",
    "            if a <= b:\n",
    "                big_num = b\n",
    "                small_num = a\n",
    "            else:\n",
    "                big_num = a\n",
    "                small_num = b\n",
    "            \n",
    "            while small_num != 0:\n",
    "                remainder = big_num % small_num\n",
    "                big_num = small_num\n",
    "                small_num = remainder\n",
    "            greatest_c_m = big_num\n",
    "            least_c_m = (a * b) // big_num   \n",
    "        print(f\"The Least Common Multiple of {a} and {b} is {least_c_m}.\") \n",
    "        #print(f\"The Greatest Common Factor of {a} and {b} is {greatest_c_m}.\")\n",
    "        \n",
    "        user_desire = input(\"Would you like to continue playing? Enter Yes to continue or Enter Stop to quit?\")\n",
    "        if (user_desire == \"Stop\") or (user_desire ==\"stop\"):\n",
    "            tries = max_tries\n",
    "        elif(user_desire == \"yes\") or (user_desire ==\"Yes\"):\n",
    "            tries = 0\n",
    "        else:\n",
    "            tries = max_tries\n",
    "        tries +=1     \n",
    "    except ValueError:\n",
    "          print(\"Please enter a valid value,enter only numbers?\")  "
   ]
  },
  {
   "cell_type": "code",
   "execution_count": 26,
   "id": "782ddc0027c401e1",
   "metadata": {
    "ExecuteTime": {
     "end_time": "2024-02-17T02:14:34.224422800Z",
     "start_time": "2024-02-17T02:14:27.610707Z"
    }
   },
   "outputs": [
    {
     "name": "stdout",
     "output_type": "stream",
     "text": [
      "The Greatest Common Factor of 16 and 4 is 4.\n"
     ]
    }
   ],
   "source": [
    "#c.“GCF”, 16, 4, “Stop”\n",
    "tries = 0\n",
    "max_tries = 1\n",
    "a = 0\n",
    "b = 0\n",
    "big_num = 0\n",
    "small_num = 0\n",
    "greatest_c_m =0\n",
    "least_c_m = 0\n",
    "while (tries < max_tries):\n",
    "    try:\n",
    "        a = int(input(\"Please enter the first number\"))\n",
    "        b = int(input(\"Please enter the second number\"))\n",
    "        if (a <= 0) or (b <= 0):\n",
    "            print(\"Please enter an integer value greater than 0 for both values.\")\n",
    "            tries = 0\n",
    "        else:\n",
    "             #find the Greatest common factor\n",
    "            if a <= b:\n",
    "                big_num = b\n",
    "                small_num = a\n",
    "            else:\n",
    "                big_num = a\n",
    "                small_num = b\n",
    "            \n",
    "            while small_num != 0:\n",
    "                remainder = big_num % small_num\n",
    "                big_num = small_num\n",
    "                small_num = remainder\n",
    "            greatest_c_m = big_num\n",
    "            least_c_m = (a * b) // big_num   \n",
    "        #print(f\"The Least Common Multiple of {a} and {b} is {least_c_m}.\") \n",
    "        print(f\"The Greatest Common Factor of {a} and {b} is {greatest_c_m}.\")\n",
    "        \n",
    "        user_desire = input(\"Would you like to continue playing? Enter Yes to continue or Enter Stop to quit?\")\n",
    "        if (user_desire == \"Stop\") or (user_desire ==\"stop\"):\n",
    "            tries = max_tries\n",
    "        elif(user_desire == \"yes\") or (user_desire ==\"Yes\"):\n",
    "            tries = 0\n",
    "        else:\n",
    "            tries = max_tries\n",
    "        tries +=1     \n",
    "    except ValueError:\n",
    "          print(\"Please enter a valid value,enter only numbers?\")  "
   ]
  },
  {
   "cell_type": "code",
   "execution_count": 27,
   "id": "e9c39cf518ddbdce",
   "metadata": {
    "ExecuteTime": {
     "end_time": "2024-02-17T02:14:45.492304100Z",
     "start_time": "2024-02-17T02:14:39.203689800Z"
    }
   },
   "outputs": [
    {
     "name": "stdout",
     "output_type": "stream",
     "text": [
      "The Greatest Common Factor of 5 and 18 is 1.\n"
     ]
    }
   ],
   "source": [
    "#d.“GCF”, 5, 18, “Stop”\n",
    "tries = 0\n",
    "max_tries = 1\n",
    "a = 0\n",
    "b = 0\n",
    "big_num = 0\n",
    "small_num = 0\n",
    "greatest_c_m =0\n",
    "least_c_m = 0\n",
    "while (tries < max_tries):\n",
    "    try:\n",
    "        a = int(input(\"Please enter the first number\"))\n",
    "        b = int(input(\"Please enter the second number\"))\n",
    "        if (a <= 0) or (b <= 0):\n",
    "            print(\"Please enter an integer value greater than 0 for both values.\")\n",
    "            tries = 0\n",
    "        else:\n",
    "             #find the Greatest common factor\n",
    "            if a <= b:\n",
    "                big_num = b\n",
    "                small_num = a\n",
    "            else:\n",
    "                big_num = a\n",
    "                small_num = b\n",
    "            \n",
    "            while small_num != 0:\n",
    "                remainder = big_num % small_num\n",
    "                big_num = small_num\n",
    "                small_num = remainder\n",
    "            greatest_c_m = big_num\n",
    "            least_c_m = (a * b) // big_num   \n",
    "        #print(f\"The Least Common Multiple of {a} and {b} is {least_c_m}.\") \n",
    "        print(f\"The Greatest Common Factor of {a} and {b} is {greatest_c_m}.\")\n",
    "        \n",
    "        user_desire = input(\"Would you like to continue playing? Enter Yes to continue or Enter Stop to quit?\")\n",
    "        if (user_desire == \"Stop\") or (user_desire ==\"stop\"):\n",
    "            tries = max_tries\n",
    "        elif(user_desire == \"yes\") or (user_desire ==\"Yes\"):\n",
    "            tries = 0\n",
    "        else:\n",
    "            tries = max_tries\n",
    "        tries +=1     \n",
    "    except ValueError:\n",
    "          print(\"Please enter a valid value,enter only numbers?\")  "
   ]
  },
  {
   "cell_type": "markdown",
   "id": "c0a4d52c42ea383f",
   "metadata": {},
   "source": []
  },
  {
   "cell_type": "markdown",
   "id": "5dd3c0cd8b1a3e78",
   "metadata": {},
   "source": [
    "2.Cryptography is the study of how data is encrypted and decrypted. One of the most basic types of encryption is a cipher, where each character is replaced with another character. A common technique in analyzing such a cipher is counting the number of occurrences contained in the acquired messages. This works as a clue to the cipher, because while the letters have changed their frequency and the syntax of the encoded language hasn’t. Write a program that takes two inputs: a passage of at least 200 characters, and a character. The program should then scan the passage for number of occurrences of the specified character. If the character is not contained in the passage, the program should prompt the user to ask the user to give another character. If the user uses a passage of insufficient size the program should inform them that the number of characters contained in their passage and prompt them to enter another passage. (40 points)"
   ]
  },
  {
   "cell_type": "code",
   "execution_count": 28,
   "id": "f42cb48b4f67a8ee",
   "metadata": {
    "ExecuteTime": {
     "end_time": "2024-02-17T02:15:33.079891100Z",
     "start_time": "2024-02-17T02:15:25.479233700Z"
    }
   },
   "outputs": [
    {
     "name": "stdout",
     "output_type": "stream",
     "text": [
      "The character you entered e occurs 19 number of times in the passage\n"
     ]
    }
   ],
   "source": [
    "#a.“The Raven” by Edgar Allan Poe Paragraph 7, “e”\n",
    "max_tries = 3 # max number of tries if there is an error\n",
    "count_occur = 0  # variable to hold number of character happening\n",
    "while count_occur <= max_tries:\n",
    "    try:\n",
    "        passage = (input(\"Please enter a a passage of at least 200 characters\")) #take input from the user\n",
    "        char_one = (input(\"Please enter a character you would like to scan the passage for number of occurrences\")) # \" \" \n",
    "        if (len(passage) < 200): # check to see if the size of the passage is less than 200\n",
    "             raise ValueError(\"The passage is insufficient size , please enter another passage at least 200 characters\") # raise an error if this is true\n",
    "        if  (len(char_one) != 1): #check if the user has put in only one character\n",
    "             raise ValueError(\"Pleas enter only one character.\") #raise an error message if this true\n",
    "        \n",
    "        count_occur = passage.count(char_one) #if everything is good count the number times char_one is present with count() function\n",
    "        \n",
    "        if count_occur == 0: #if there is no match, tell the user to put another letter. \n",
    "             print(f\"The character {char_one} is not contained in the passage, Please Enter another character\")\n",
    "             continue #instead of breaking out to the end of the line with error it will do the loop again\n",
    "        break # break the loop once this is met\n",
    "    except ValueError as e:\n",
    "        print(e)\n",
    "    count_occur +=1   #count goes up by one so it will not run forever.\n",
    "print(f\"The character you entered {char_one} occurs {count_occur} number of times in the passage\") "
   ]
  },
  {
   "cell_type": "markdown",
   "id": "8b5d9957f29f6fb5",
   "metadata": {},
   "source": []
  },
  {
   "cell_type": "code",
   "execution_count": 29,
   "id": "74147f6139318710",
   "metadata": {
    "ExecuteTime": {
     "end_time": "2024-02-17T02:16:14.113832800Z",
     "start_time": "2024-02-17T02:16:00.437197300Z"
    }
   },
   "outputs": [
    {
     "name": "stdout",
     "output_type": "stream",
     "text": [
      "The character you entered i occurs 16 number of times in the passage\n"
     ]
    }
   ],
   "source": [
    "#b.“Fire and Ice” by Robert Frost, “i”\n",
    "max_tries = 3 # max number of tries if there is an error\n",
    "count_occur = 0  # variable to hold number of character happening\n",
    "while count_occur <= max_tries:\n",
    "    try:\n",
    "        passage = (input(\"Please enter a a passage of at least 200 characters\")) #take input from the user\n",
    "        char_one = (input(\"Please enter a character you would like to scan the passage for number of occurrences\")) # \" \" \n",
    "        if (len(passage) < 200): # check to see if the size of the passage is less than 200\n",
    "             raise ValueError(\"The passage is insufficient size , please enter another passage at least 200 characters\") # raise an error if this is true\n",
    "        if  (len(char_one) != 1): #check if the user has put in only one character\n",
    "             raise ValueError(\"Pleas enter only one character.\") #raise an error message if this true\n",
    "        \n",
    "        count_occur = passage.count(char_one) #if everything is good count the number times char_one is present with count() function\n",
    "        \n",
    "        if count_occur == 0: #if there is no match, tell the user to put another letter. \n",
    "             print(f\"The character {char_one} is not contained in the passage, Please Enter another character\")\n",
    "             continue #instead of breaking out to the end of the line with error it will do the loop again\n",
    "        break # break the loop once this is met\n",
    "    except ValueError as e:\n",
    "        print(e)\n",
    "    count_occur +=1   #count goes up by one so it will not run forever.\n",
    "print(f\"The character you entered {char_one} occurs {count_occur} number of times in the passage\") "
   ]
  },
  {
   "cell_type": "markdown",
   "id": "a8d86f8915390c2e",
   "metadata": {},
   "source": []
  },
  {
   "cell_type": "code",
   "execution_count": 30,
   "id": "c661dd1c36249425",
   "metadata": {
    "ExecuteTime": {
     "end_time": "2024-02-17T02:17:01.257771600Z",
     "start_time": "2024-02-17T02:16:56.294669500Z"
    }
   },
   "outputs": [
    {
     "name": "stdout",
     "output_type": "stream",
     "text": [
      "The character you entered x occurs 1 number of times in the passage\n"
     ]
    }
   ],
   "source": [
    "#c.“Awaking in New York” by Maya Angelou, “x”\n",
    "max_tries = 3 # max number of tries if there is an error\n",
    "count_occur = 0  # variable to hold number of character happening\n",
    "while count_occur <= max_tries:\n",
    "    try:\n",
    "        passage = (input(\"Please enter a a passage of at least 200 characters\")) #take input from the user\n",
    "        char_one = (input(\"Please enter a character you would like to scan the passage for number of occurrences\")) # \" \" \n",
    "        if (len(passage) < 200): # check to see if the size of the passage is less than 200\n",
    "             raise ValueError(\"The passage is insufficient size , please enter another passage at least 200 characters\") # raise an error if this is true\n",
    "        if  (len(char_one) != 1): #check if the user has put in only one character\n",
    "             raise ValueError(\"Pleas enter only one character.\") #raise an error message if this true\n",
    "        \n",
    "        count_occur = passage.count(char_one) #if everything is good count the number times char_one is present with count() function\n",
    "        \n",
    "        if count_occur == 0: #if there is no match, tell the user to put another letter. \n",
    "             print(f\"The character {char_one} is not contained in the passage, Please Enter another character\")\n",
    "             continue #instead of breaking out to the end of the line with error it will do the loop again\n",
    "        break # break the loop once this is met\n",
    "    except ValueError as e:\n",
    "        print(e)\n",
    "    count_occur +=1   #count goes up by one so it will not run forever.\n",
    "print(f\"The character you entered {char_one} occurs {count_occur} number of times in the passage\") "
   ]
  },
  {
   "cell_type": "markdown",
   "id": "5dd968e044b1734a",
   "metadata": {},
   "source": []
  },
  {
   "cell_type": "code",
   "execution_count": 31,
   "id": "16f001fca22074c6",
   "metadata": {
    "ExecuteTime": {
     "end_time": "2024-02-17T02:17:45.978552100Z",
     "start_time": "2024-02-17T02:17:37.304131700Z"
    }
   },
   "outputs": [
    {
     "name": "stdout",
     "output_type": "stream",
     "text": [
      "The character you entered ? occurs 3 number of times in the passage\n"
     ]
    }
   ],
   "source": [
    "#d.“I’m thankful that my life doth not deceive” by Henry David Thoreau, “?”\n",
    "max_tries = 3 # max number of tries if there is an error\n",
    "count_occur = 0  # variable to hold number of character happening\n",
    "while count_occur <= max_tries:\n",
    "    try:\n",
    "        passage = (input(\"Please enter a a passage of at least 200 characters\")) #take input from the user\n",
    "        char_one = (input(\"Please enter a character you would like to scan the passage for number of occurrences\")) # \" \" \n",
    "        if (len(passage) < 200): # check to see if the size of the passage is less than 200\n",
    "             raise ValueError(\"The passage is insufficient size , please enter another passage at least 200 characters\") # raise an error if this is true\n",
    "        if  (len(char_one) != 1): #check if the user has put in only one character\n",
    "             raise ValueError(\"Pleas enter only one character.\") #raise an error message if this true\n",
    "        \n",
    "        count_occur = passage.count(char_one) #if everything is good count the number times char_one is present with count() function\n",
    "        \n",
    "        if count_occur == 0: #if there is no match, tell the user to put another letter. \n",
    "             print(f\"The character {char_one} is not contained in the passage, Please Enter another character\")\n",
    "             continue #instead of breaking out to the end of the line with error it will do the loop again\n",
    "        break # break the loop once this is met\n",
    "    except ValueError as e:\n",
    "        print(e)\n",
    "    count_occur +=1   #count goes up by one so it will not run forever.\n",
    "print(f\"The character you entered {char_one} occurs {count_occur} number of times in the passage\") "
   ]
  }
 ],
 "metadata": {
  "kernelspec": {
   "display_name": "Python 3 (ipykernel)",
   "language": "python",
   "name": "python3"
  },
  "language_info": {
   "codemirror_mode": {
    "name": "ipython",
    "version": 3
   },
   "file_extension": ".py",
   "mimetype": "text/x-python",
   "name": "python",
   "nbconvert_exporter": "python",
   "pygments_lexer": "ipython3",
   "version": "3.10.9"
  }
 },
 "nbformat": 4,
 "nbformat_minor": 5
}
